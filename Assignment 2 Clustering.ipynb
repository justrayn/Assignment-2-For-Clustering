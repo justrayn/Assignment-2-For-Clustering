{
 "cells": [
  {
   "cell_type": "markdown",
   "metadata": {},
   "source": [
    "R code - Python code "
   ]
  },
  {
   "cell_type": "code",
   "execution_count": 1,
   "metadata": {},
   "outputs": [],
   "source": [
    "import pandas as pd\n",
    "import numpy as np\n",
    "import matplotlib.pyplot as plt\n",
    "import seaborn as sns\n",
    "from scipy.stats import gaussian_kde\n",
    "from sklearn.cluster import KMeans\n",
    "from sklearn.preprocessing import StandardScaler\n",
    "\n",
    "def See(arg1, tidy):\n",
    "    # Filter dataset\n",
    "    filtered_data = tidy[tidy['ATC'] == arg1].copy()\n",
    "    \n",
    "    # Sort and create previous eksd column\n",
    "    filtered_data = filtered_data.sort_values(by=['pnr', 'eksd'])\n",
    "    filtered_data['prev_eksd'] = filtered_data.groupby('pnr')['eksd'].shift(1)\n",
    "    filtered_data = filtered_data.dropna()\n",
    "    \n",
    "    # Calculate event intervals\n",
    "    filtered_data['event_interval'] = (filtered_data['eksd'] - filtered_data['prev_eksd']).dt.days\n",
    "    \n",
    "    # Generate empirical cumulative distribution\n",
    "    sorted_intervals = np.sort(filtered_data['event_interval'])\n",
    "    ecdf = np.arange(1, len(sorted_intervals) + 1) / len(sorted_intervals)\n",
    "    \n",
    "    # Retain 80% ECDF\n",
    "    threshold = np.percentile(sorted_intervals, 80)\n",
    "    filtered_data = filtered_data[filtered_data['event_interval'] <= threshold]\n",
    "    \n",
    "    # Density estimation\n",
    "    log_intervals = np.log(filtered_data['event_interval'])\n",
    "    kde = gaussian_kde(log_intervals)\n",
    "    x_vals = np.linspace(log_intervals.min(), log_intervals.max(), 100)\n",
    "    y_vals = kde(x_vals)\n",
    "    \n",
    "    # Clustering\n",
    "    scaled_data = StandardScaler().fit_transform(x_vals.reshape(-1, 1))\n",
    "    best_k = 2  # Can be optimized using silhouette method\n",
    "    kmeans = KMeans(n_clusters=best_k, random_state=1234)\n",
    "    clusters = kmeans.fit_predict(scaled_data)\n",
    "    \n",
    "    # Assign clusters\n",
    "    filtered_data['cluster'] = kmeans.predict(scaled_data[:len(filtered_data)])\n",
    "    \n",
    "    return filtered_data\n",
    "\n",
    "# Example usage:\n",
    "# tidy = pd.DataFrame(...) # Load your dataset here\n",
    "# medA = See(\"medA\", tidy)\n",
    "# medB = See(\"medB\", tidy)\n"
   ]
  },
  {
   "cell_type": "code",
   "execution_count": 4,
   "metadata": {},
   "outputs": [
    {
     "ename": "ValueError",
     "evalue": "DataFrame constructor not properly called!",
     "output_type": "error",
     "traceback": [
      "\u001b[1;31m---------------------------------------------------------------------------\u001b[0m",
      "\u001b[1;31mValueError\u001b[0m                                Traceback (most recent call last)",
      "\u001b[1;32m~\\AppData\\Local\\Temp\\ipykernel_14664\\50526764.py\u001b[0m in \u001b[0;36m?\u001b[1;34m()\u001b[0m\n\u001b[1;32m----> 1\u001b[1;33m \u001b[0mtidy\u001b[0m \u001b[1;33m=\u001b[0m \u001b[0mpd\u001b[0m\u001b[1;33m.\u001b[0m\u001b[0mDataFrame\u001b[0m\u001b[1;33m(\u001b[0m\u001b[1;33m...\u001b[0m\u001b[1;33m)\u001b[0m \u001b[1;31m# Load your dataset here\u001b[0m\u001b[1;33m\u001b[0m\u001b[1;33m\u001b[0m\u001b[0m\n\u001b[0m\u001b[0;32m      2\u001b[0m \u001b[0mmedA\u001b[0m \u001b[1;33m=\u001b[0m \u001b[0mSee\u001b[0m\u001b[1;33m(\u001b[0m\u001b[1;34m\"medA\"\u001b[0m\u001b[1;33m,\u001b[0m \u001b[0mtidy\u001b[0m\u001b[1;33m)\u001b[0m\u001b[1;33m\u001b[0m\u001b[1;33m\u001b[0m\u001b[0m\n\u001b[0;32m      3\u001b[0m \u001b[0mmedB\u001b[0m \u001b[1;33m=\u001b[0m \u001b[0mSee\u001b[0m\u001b[1;33m(\u001b[0m\u001b[1;34m\"medB\"\u001b[0m\u001b[1;33m,\u001b[0m \u001b[0mtidy\u001b[0m\u001b[1;33m)\u001b[0m\u001b[1;33m\u001b[0m\u001b[1;33m\u001b[0m\u001b[0m\n",
      "\u001b[1;32mc:\\Users\\User\\anaconda3\\Lib\\site-packages\\pandas\\core\\frame.py\u001b[0m in \u001b[0;36m?\u001b[1;34m(self, data, index, columns, dtype, copy)\u001b[0m\n\u001b[0;32m    813\u001b[0m                 )\n\u001b[0;32m    814\u001b[0m         \u001b[1;31m# For data is scalar\u001b[0m\u001b[1;33m\u001b[0m\u001b[1;33m\u001b[0m\u001b[0m\n\u001b[0;32m    815\u001b[0m         \u001b[1;32melse\u001b[0m\u001b[1;33m:\u001b[0m\u001b[1;33m\u001b[0m\u001b[1;33m\u001b[0m\u001b[0m\n\u001b[0;32m    816\u001b[0m             \u001b[1;32mif\u001b[0m \u001b[0mindex\u001b[0m \u001b[1;32mis\u001b[0m \u001b[1;32mNone\u001b[0m \u001b[1;32mor\u001b[0m \u001b[0mcolumns\u001b[0m \u001b[1;32mis\u001b[0m \u001b[1;32mNone\u001b[0m\u001b[1;33m:\u001b[0m\u001b[1;33m\u001b[0m\u001b[1;33m\u001b[0m\u001b[0m\n\u001b[1;32m--> 817\u001b[1;33m                 \u001b[1;32mraise\u001b[0m \u001b[0mValueError\u001b[0m\u001b[1;33m(\u001b[0m\u001b[1;34m\"DataFrame constructor not properly called!\"\u001b[0m\u001b[1;33m)\u001b[0m\u001b[1;33m\u001b[0m\u001b[1;33m\u001b[0m\u001b[0m\n\u001b[0m\u001b[0;32m    818\u001b[0m \u001b[1;33m\u001b[0m\u001b[0m\n\u001b[0;32m    819\u001b[0m             \u001b[0mindex\u001b[0m \u001b[1;33m=\u001b[0m \u001b[0mensure_index\u001b[0m\u001b[1;33m(\u001b[0m\u001b[0mindex\u001b[0m\u001b[1;33m)\u001b[0m\u001b[1;33m\u001b[0m\u001b[1;33m\u001b[0m\u001b[0m\n\u001b[0;32m    820\u001b[0m             \u001b[0mcolumns\u001b[0m \u001b[1;33m=\u001b[0m \u001b[0mensure_index\u001b[0m\u001b[1;33m(\u001b[0m\u001b[0mcolumns\u001b[0m\u001b[1;33m)\u001b[0m\u001b[1;33m\u001b[0m\u001b[1;33m\u001b[0m\u001b[0m\n",
      "\u001b[1;31mValueError\u001b[0m: DataFrame constructor not properly called!"
     ]
    }
   ],
   "source": [
    "tidy = pd.DataFrame(...) # Load your dataset here\n",
    "medA = See(\"medA\", tidy)\n",
    "medB = See(\"medB\", tidy)"
   ]
  }
 ],
 "metadata": {
  "kernelspec": {
   "display_name": "base",
   "language": "python",
   "name": "python3"
  },
  "language_info": {
   "codemirror_mode": {
    "name": "ipython",
    "version": 3
   },
   "file_extension": ".py",
   "mimetype": "text/x-python",
   "name": "python",
   "nbconvert_exporter": "python",
   "pygments_lexer": "ipython3",
   "version": "3.11.5"
  }
 },
 "nbformat": 4,
 "nbformat_minor": 2
}
